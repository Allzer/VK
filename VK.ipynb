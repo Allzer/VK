{
  "nbformat": 4,
  "nbformat_minor": 0,
  "metadata": {
    "colab": {
      "provenance": [],
      "authorship_tag": "ABX9TyOxQOp4P0iytX9JWn+20ulK",
      "include_colab_link": true
    },
    "kernelspec": {
      "name": "python3",
      "display_name": "Python 3"
    },
    "language_info": {
      "name": "python"
    }
  },
  "cells": [
    {
      "cell_type": "markdown",
      "metadata": {
        "id": "view-in-github",
        "colab_type": "text"
      },
      "source": [
        "<a href=\"https://colab.research.google.com/github/Allzer/VK/blob/main/VK.ipynb\" target=\"_parent\"><img src=\"https://colab.research.google.com/assets/colab-badge.svg\" alt=\"Open In Colab\"/></a>"
      ]
    },
    {
      "cell_type": "code",
      "source": [
        "# Объявление библиотек\n",
        "import numpy as np\n",
        "import pandas as pd\n",
        "import matplotlib.pyplot as plt\n",
        "from sklearn.model_selection import train_test_split\n",
        "\n",
        "from sklearn.model_selection import learning_curve\n",
        "import sklearn.metrics as metrics\n",
        "\n",
        "import xgboost as xgb\n",
        "\n",
        "# Загрузка тренеровочных данных\n",
        "f_train = pd.read_csv('trainee_train.csv', encoding=\"latin-1\", sep=';')\n",
        "f_test = pd.read_csv('trainee_test_fish.csv', encoding='latin-1', sep=';')\n",
        "\n",
        "\n",
        "# Переносим тренировочную выборку в массивы numpy\n",
        "y_train = f_train['im'][:]\n",
        "y_data = np.array(y_train)\n",
        "\n",
        "x_train = f_train.iloc[:, 2:].copy()\n",
        "x_data = np.array(x_train)\n",
        "\n",
        "x_train, x_test, y_train, y_test = train_test_split(x_data, y_data,\n",
        "                                                     test_size=0.01,\n",
        "                                                     random_state=56)\n",
        "\n",
        "y_final_data = f_test.iloc[:, 1:].copy()\n",
        "y_final_data = np.array(y_final_data)\n",
        "\n",
        "model = xgb.XGBClassifier(\n",
        "    n_estimators=75, #75\n",
        "    learning_rate=0.07, #0.07\n",
        "    max_depth=3, #3\n",
        "    min_child_weight=1, #1\n",
        "    gamma=0, #0\n",
        "    subsample=0.8, #0.8\n",
        "    colsample_bytree=0.5, #0.5\n",
        "    objective='binary:logistic',\n",
        "    random_state=42 #42\n",
        ")\n",
        "\n",
        "model.fit(x_train, y_train)\n",
        "\n",
        "predictions = model.predict(x_test)\n",
        "\n",
        "# Смотрим точность\n",
        "accuracy = np.mean(predictions == y_test)\n",
        "print('Accuracy:', accuracy)\n",
        "\n",
        "finnaly_predict=model.predict(y_final_data)\n",
        "print(finnaly_predict)"
      ],
      "metadata": {
        "id": "FMP0Z0zVPoSh",
        "colab": {
          "base_uri": "https://localhost:8080/"
        },
        "outputId": "a41bec26-9708-43a0-92c6-c365ca096480"
      },
      "execution_count": 43,
      "outputs": [
        {
          "output_type": "stream",
          "name": "stdout",
          "text": [
            "Accuracy: 1.0\n",
            "[0 1 0 0 0 0 1 1 1 1 1 1 1 1 1 1 1 1 1 0 0 1 1 1 1 1 1 0 1 1 1 1 1 1 0 1 1\n",
            " 0 1 1 1 0 1 1 1 1 1 1 1 0 1 1 0 1 0 1 1 1 1 0 0 1 1 1 1 0 1 1 1 1 1 1 1 1\n",
            " 0 1 0 1 1 1 0 1 1 1 1 0 1 1 0 1 0 0 0 1 1 0 1 1 1 1 1 0 1 1 1 1 0 0 1 1 0\n",
            " 1 1 1 1 0 1 1 0 1 1 0 0 1 0 1 1 1 1 1 1 1 1 0 1 1 1 1 1 1 1 1 1 1 0 0 1 1\n",
            " 1 1 1 1 1 1 1 1 0 1 1 1 1 1 0 0 0 0 0 0 0 0 1 1 0 1 0 0 1 1 0 1 1 1 0 1 1\n",
            " 1 1 0 0 1 1 1 1 1 0 1 1 1 0 1 1 1 1 0 1 0 1 0 1 1 1 1 0 0 1 1]\n"
          ]
        }
      ]
    },
    {
      "cell_type": "code",
      "source": [
        "# Создаем массив для записи верных и неверных предсказаний\n",
        "results = predictions == y_test\n",
        "\n",
        "# Преобразуем список в массив numpy для удобства\n",
        "results = np.array(results)\n",
        "print(\"Correct predictions:\", results)"
      ],
      "metadata": {
        "id": "Qw0QGZPVkiKa",
        "colab": {
          "base_uri": "https://localhost:8080/"
        },
        "outputId": "5166f56b-3373-48e7-85be-ffecffb6264f"
      },
      "execution_count": 31,
      "outputs": [
        {
          "output_type": "stream",
          "name": "stdout",
          "text": [
            "Correct predictions: [ True  True  True  True  True  True  True]\n"
          ]
        }
      ]
    },
    {
      "cell_type": "code",
      "source": [
        "end_column = []\n",
        "for i, value in enumerate(finnaly_predict):\n",
        "    end_column.append(f\"{i}, {value}.0\")\n",
        "\n",
        "# Создаём таблицу\n",
        "df_predictions = pd.DataFrame({',im': end_column})\n",
        "df_predictions.to_csv('predictions.csv', index=False)\n",
        "\n",
        "# Загрузка данных из CSV файла в DataFrame\n",
        "df_predictions = pd.read_csv('predictions.csv')\n",
        "\n",
        "print(df_predictions)"
      ],
      "metadata": {
        "colab": {
          "base_uri": "https://localhost:8080/"
        },
        "id": "ChMVyiHNTPiS",
        "outputId": "7f04b732-47e2-4325-822a-4a6a2bee58f6"
      },
      "execution_count": 44,
      "outputs": [
        {
          "output_type": "stream",
          "name": "stdout",
          "text": [
            "          ,im\n",
            "0      0, 0.0\n",
            "1      1, 1.0\n",
            "2      2, 0.0\n",
            "3      3, 0.0\n",
            "4      4, 0.0\n",
            "..        ...\n",
            "211  211, 1.0\n",
            "212  212, 0.0\n",
            "213  213, 0.0\n",
            "214  214, 1.0\n",
            "215  215, 1.0\n",
            "\n",
            "[216 rows x 1 columns]\n"
          ]
        }
      ]
    }
  ]
}