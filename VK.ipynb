{
  "nbformat": 4,
  "nbformat_minor": 0,
  "metadata": {
    "colab": {
      "provenance": [],
      "authorship_tag": "ABX9TyMCCzwAwotD3fxERPc5UUfO",
      "include_colab_link": true
    },
    "kernelspec": {
      "name": "python3",
      "display_name": "Python 3"
    },
    "language_info": {
      "name": "python"
    }
  },
  "cells": [
    {
      "cell_type": "markdown",
      "metadata": {
        "id": "view-in-github",
        "colab_type": "text"
      },
      "source": [
        "<a href=\"https://colab.research.google.com/github/Allzer/VK/blob/main/VK.ipynb\" target=\"_parent\"><img src=\"https://colab.research.google.com/assets/colab-badge.svg\" alt=\"Open In Colab\"/></a>"
      ]
    },
    {
      "cell_type": "code",
      "source": [
        "# Объявление библиотек\n",
        "import numpy as np\n",
        "import pandas as pd\n",
        "import matplotlib.pyplot as plt\n",
        "from sklearn.model_selection import train_test_split\n",
        "\n",
        "from sklearn.model_selection import learning_curve\n",
        "import sklearn.metrics as metrics\n",
        "\n",
        "import xgboost as xgb\n",
        "\n",
        "# Загрузка тренеровочных данных\n",
        "f_train = pd.read_csv('trainee_train.csv', encoding=\"latin-1\", sep=';')\n",
        "\n",
        "# Переносим тренировочную выборку в массивы numpy\n",
        "y_train = f_train['im'][:]\n",
        "y_data = np.array(y_train)\n",
        "\n",
        "x_train = f_train.iloc[:, 2:].copy()\n",
        "x_data = np.array(x_train)\n",
        "\n",
        "# Т.к в тестовых данных не было y_test я воспользовался функцией train_test_split для\n",
        "# разделения большого тренировочного датасета на тренировочную и тестовую выборку\n",
        "x_train, x_test, y_train, y_test = train_test_split(x_data, y_data,\n",
        "                                                     test_size=0.3,\n",
        "                                                     random_state=56\n",
        "                                                    )\n",
        "\n",
        "# Обучение модели градиентного бустинга точность 92% -> 93% -> 95.3% -> 95.6% (За счёт увеличения кол-ва деревьев и random_state=56\n",
        "# и n_estimators=75)\n",
        "model = xgb.XGBClassifier(\n",
        "    n_estimators=75, #75\n",
        "    learning_rate=0.07, #0.07\n",
        "    max_depth=3, #3\n",
        "    min_child_weight=1, #1\n",
        "    gamma=0, #0\n",
        "    subsample=0.8, #0.8\n",
        "    colsample_bytree=0.5, #0.5\n",
        "    objective='binary:logistic',\n",
        "    random_state=42 #42\n",
        ")\n",
        "\n",
        "model.fit(x_train, y_train)\n",
        "\n",
        "predictions = model.predict(x_test)\n",
        "\n",
        "# Смотрим точность\n",
        "accuracy = np.mean(predictions == y_test)\n",
        "print('Accuracy:', accuracy)"
      ],
      "metadata": {
        "id": "FMP0Z0zVPoSh",
        "colab": {
          "base_uri": "https://localhost:8080/"
        },
        "outputId": "5dbd7ba4-9ec9-4a90-e75c-cf3170234607"
      },
      "execution_count": null,
      "outputs": [
        {
          "output_type": "stream",
          "name": "stdout",
          "text": [
            "Accuracy: 0.9567567567567568\n"
          ]
        }
      ]
    },
    {
      "cell_type": "code",
      "source": [
        "# Создаем массив для записи верных и неверных предсказаний\n",
        "\n",
        "results = predictions == y_test\n",
        "\n",
        "# Преобразуем список в массив numpy\n",
        "results = np.array(results)\n",
        "print(\"Correct predictions:\", results)"
      ],
      "metadata": {
        "colab": {
          "base_uri": "https://localhost:8080/"
        },
        "id": "Qw0QGZPVkiKa",
        "outputId": "9598bc1c-5a51-4c9e-b9db-85b83191648f"
      },
      "execution_count": null,
      "outputs": [
        {
          "output_type": "stream",
          "name": "stdout",
          "text": [
            "Correct predictions: [ True  True  True  True  True  True  True  True False  True  True  True\n",
            "  True  True  True  True  True  True  True  True  True  True  True  True\n",
            "  True  True  True  True  True  True  True  True  True  True  True  True\n",
            "  True  True  True  True  True  True  True  True  True  True  True  True\n",
            "  True False  True  True  True  True  True  True False  True  True  True\n",
            "  True  True  True  True  True  True False  True  True  True  True  True\n",
            "  True  True  True  True  True  True  True  True  True  True  True  True\n",
            "  True  True  True  True  True  True  True  True  True  True  True  True\n",
            "  True  True  True  True False  True  True  True  True  True  True  True\n",
            "  True  True  True  True  True  True  True  True  True  True  True  True\n",
            "  True  True  True  True  True  True  True  True  True  True  True  True\n",
            "  True  True  True False  True  True  True  True  True  True  True  True\n",
            "  True  True  True  True  True  True  True  True  True  True  True  True\n",
            "  True  True  True False  True  True  True False  True  True  True  True\n",
            "  True  True  True  True  True  True  True  True  True  True  True  True\n",
            "  True  True  True  True  True]\n"
          ]
        }
      ]
    },
    {
      "cell_type": "code",
      "source": [
        "# Создаём таблицу\n",
        "df_predictions = pd.DataFrame({'im': range(len(predictions)), 'predictions': predictions, 'check':results, 'Accuracy':accuracy})\n",
        "df_predictions.to_csv('predictions.csv', index=False)\n",
        "\n",
        "# Загрузка данных из CSV файла в DataFrame\n",
        "df_predictions = pd.read_csv('predictions.csv')\n",
        "\n",
        "# Оставляем только первый столбец из 4\n",
        "df_predictions.iloc[1:, 3] = np.nan\n",
        "\n",
        "# Сохранение измененного DataFrame в тот же CSV файл\n",
        "df_predictions.to_csv('predictions.csv', index=False)\n",
        "\n",
        "\n",
        "\n",
        "print(df_predictions)"
      ],
      "metadata": {
        "colab": {
          "base_uri": "https://localhost:8080/"
        },
        "id": "rnvbUQ8fmUPp",
        "outputId": "98cad99b-2617-4f5d-d312-8cb54dbba712"
      },
      "execution_count": null,
      "outputs": [
        {
          "output_type": "stream",
          "name": "stdout",
          "text": [
            "      im  predictions  check  Accuracy\n",
            "0      0            1   True  0.956757\n",
            "1      1            1   True       NaN\n",
            "2      2            0   True       NaN\n",
            "3      3            1   True       NaN\n",
            "4      4            1   True       NaN\n",
            "..   ...          ...    ...       ...\n",
            "180  180            1   True       NaN\n",
            "181  181            1   True       NaN\n",
            "182  182            1   True       NaN\n",
            "183  183            1   True       NaN\n",
            "184  184            1   True       NaN\n",
            "\n",
            "[185 rows x 4 columns]\n"
          ]
        }
      ]
    }
  ]
}
